{
 "cells": [
  {
   "cell_type": "code",
   "execution_count": 1,
   "id": "8cc731e1-6bbf-43e0-8664-5515311215e9",
   "metadata": {},
   "outputs": [],
   "source": [
    "    import numpy as np\n",
    "    import pandas as pd\n",
    "    import matplotlib.pyplot as plt\n",
    "    from sklearn.preprocessing import StandardScaler"
   ]
  },
  {
   "cell_type": "code",
   "execution_count": 2,
   "id": "5dc64137-81a3-4bd0-9848-00ca61f527f2",
   "metadata": {},
   "outputs": [],
   "source": [
    "df=pd.read_csv(r\"D:\\Sem-4\\Machine Learning\\Datasets\\features_30_sec.csv\")"
   ]
  },
  {
   "cell_type": "code",
   "execution_count": 5,
   "id": "8d647e15-a1e1-46f8-9cec-a7782e2f37a6",
   "metadata": {},
   "outputs": [
    {
     "data": {
      "text/plain": [
       "0      blues.00000.wav\n",
       "1      blues.00001.wav\n",
       "2      blues.00002.wav\n",
       "3      blues.00003.wav\n",
       "4      blues.00004.wav\n",
       "            ...       \n",
       "995     rock.00095.wav\n",
       "996     rock.00096.wav\n",
       "997     rock.00097.wav\n",
       "998     rock.00098.wav\n",
       "999     rock.00099.wav\n",
       "Name: filename, Length: 1000, dtype: object"
      ]
     },
     "execution_count": 5,
     "metadata": {},
     "output_type": "execute_result"
    }
   ],
   "source": [
    "filename_csv=df[\"filename\"]\n",
    "genre_csv=df[\"label\"]\n",
    "filename_csv"
   ]
  },
  {
   "cell_type": "code",
   "execution_count": 7,
   "id": "eb23ce3a-3698-4ed8-b4b0-a517601816b9",
   "metadata": {},
   "outputs": [
    {
     "data": {
      "text/plain": [
       "0      blues\n",
       "1      blues\n",
       "2      blues\n",
       "3      blues\n",
       "4      blues\n",
       "       ...  \n",
       "995     rock\n",
       "996     rock\n",
       "997     rock\n",
       "998     rock\n",
       "999     rock\n",
       "Name: label, Length: 1000, dtype: object"
      ]
     },
     "execution_count": 7,
     "metadata": {},
     "output_type": "execute_result"
    }
   ],
   "source": [
    "genre_csv"
   ]
  },
  {
   "cell_type": "code",
   "execution_count": 11,
   "id": "2bf8fa25-fa61-451c-9c7e-1f5220806877",
   "metadata": {},
   "outputs": [],
   "source": [
    "#Setting the user song\n",
    "user_name=df.iloc[300]"
   ]
  },
  {
   "cell_type": "code",
   "execution_count": 13,
   "id": "6c769d56-f258-43c6-ac95-d5f6223945ae",
   "metadata": {},
   "outputs": [
    {
     "data": {
      "text/plain": [
       "'disco'"
      ]
     },
     "execution_count": 13,
     "metadata": {},
     "output_type": "execute_result"
    }
   ],
   "source": [
    "user_name.label"
   ]
  },
  {
   "cell_type": "code",
   "execution_count": 15,
   "id": "acbb98c9-e045-4f67-8f78-06a0d2c19ded",
   "metadata": {},
   "outputs": [],
   "source": [
    "count=0\n",
    "song_index=[]\n",
    "for i in range(1000):\n",
    "  if count==100:\n",
    "      break\n",
    "  elif df[\"label\"][i]==user_name.label and df[\"filename\"][i]!= user_name.filename:\n",
    "    song_index.append(i)\n",
    "    count+=1"
   ]
  },
  {
   "cell_type": "code",
   "execution_count": 17,
   "id": "413f9e52-01f5-4c51-8e38-e4ecd534f897",
   "metadata": {},
   "outputs": [
    {
     "data": {
      "text/plain": [
       "[301,\n",
       " 302,\n",
       " 303,\n",
       " 304,\n",
       " 305,\n",
       " 306,\n",
       " 307,\n",
       " 308,\n",
       " 309,\n",
       " 310,\n",
       " 311,\n",
       " 312,\n",
       " 313,\n",
       " 314,\n",
       " 315,\n",
       " 316,\n",
       " 317,\n",
       " 318,\n",
       " 319,\n",
       " 320,\n",
       " 321,\n",
       " 322,\n",
       " 323,\n",
       " 324,\n",
       " 325,\n",
       " 326,\n",
       " 327,\n",
       " 328,\n",
       " 329,\n",
       " 330,\n",
       " 331,\n",
       " 332,\n",
       " 333,\n",
       " 334,\n",
       " 335,\n",
       " 336,\n",
       " 337,\n",
       " 338,\n",
       " 339,\n",
       " 340,\n",
       " 341,\n",
       " 342,\n",
       " 343,\n",
       " 344,\n",
       " 345,\n",
       " 346,\n",
       " 347,\n",
       " 348,\n",
       " 349,\n",
       " 350,\n",
       " 351,\n",
       " 352,\n",
       " 353,\n",
       " 354,\n",
       " 355,\n",
       " 356,\n",
       " 357,\n",
       " 358,\n",
       " 359,\n",
       " 360,\n",
       " 361,\n",
       " 362,\n",
       " 363,\n",
       " 364,\n",
       " 365,\n",
       " 366,\n",
       " 367,\n",
       " 368,\n",
       " 369,\n",
       " 370,\n",
       " 371,\n",
       " 372,\n",
       " 373,\n",
       " 374,\n",
       " 375,\n",
       " 376,\n",
       " 377,\n",
       " 378,\n",
       " 379,\n",
       " 380,\n",
       " 381,\n",
       " 382,\n",
       " 383,\n",
       " 384,\n",
       " 385,\n",
       " 386,\n",
       " 387,\n",
       " 388,\n",
       " 389,\n",
       " 390,\n",
       " 391,\n",
       " 392,\n",
       " 393,\n",
       " 394,\n",
       " 395,\n",
       " 396,\n",
       " 397,\n",
       " 398,\n",
       " 399]"
      ]
     },
     "execution_count": 17,
     "metadata": {},
     "output_type": "execute_result"
    }
   ],
   "source": [
    "song_index"
   ]
  },
  {
   "cell_type": "code",
   "execution_count": 19,
   "id": "42141f89-3f2b-4e3a-b8c6-e34a2d8c66b9",
   "metadata": {},
   "outputs": [],
   "source": [
    "song_features=df.iloc[song_index,2:-1].values"
   ]
  },
  {
   "cell_type": "code",
   "execution_count": 21,
   "id": "fa3b2f5a-f8ee-404f-b787-1c0639b30240",
   "metadata": {},
   "outputs": [
    {
     "data": {
      "text/plain": [
       "array([[ 4.10686225e-01,  8.67036059e-02,  1.77220926e-01, ...,\n",
       "         6.85581818e+01, -8.92958492e-02,  8.22449341e+01],\n",
       "       [ 4.12078977e-01,  8.44364539e-02,  1.61325306e-01, ...,\n",
       "         6.11458282e+01, -1.44984674e+00,  5.18299141e+01],\n",
       "       [ 4.95037168e-01,  7.70024061e-02,  1.96364477e-01, ...,\n",
       "         4.72792015e+01, -3.57712179e-01,  5.35248337e+01],\n",
       "       ...,\n",
       "       [ 4.14972514e-01,  8.40699300e-02,  1.08184345e-01, ...,\n",
       "         3.94821587e+01,  4.39132452e+00,  4.37500191e+01],\n",
       "       [ 4.40995067e-01,  8.24743584e-02,  1.22678056e-01, ...,\n",
       "         4.75570755e+01, -9.93488848e-01,  4.11933174e+01],\n",
       "       [ 4.40995067e-01,  8.24743584e-02,  1.22678056e-01, ...,\n",
       "         4.75570755e+01, -9.93488848e-01,  4.11933174e+01]])"
      ]
     },
     "execution_count": 21,
     "metadata": {},
     "output_type": "execute_result"
    }
   ],
   "source": [
    "song_features"
   ]
  },
  {
   "cell_type": "code",
   "execution_count": 27,
   "id": "7a0f55a4-fe2a-45ce-83aa-83651ca0860f",
   "metadata": {},
   "outputs": [],
   "source": [
    "scaler=StandardScaler()\n",
    "scaled_features = scaler.fit_transform(np.array(song_features))"
   ]
  },
  {
   "cell_type": "code",
   "execution_count": 29,
   "id": "05261512-bbc8-4ec5-9548-526d355d633c",
   "metadata": {},
   "outputs": [
    {
     "data": {
      "text/plain": [
       "array([[-0.09901552,  0.34462465,  0.9465157 , ...,  0.45258661,\n",
       "        -0.19337465,  0.98079784],\n",
       "       [-0.06939319, -0.03331799,  0.57941369, ...,  0.0949703 ,\n",
       "        -0.62370292, -0.40724988],\n",
       "       [ 1.69503777, -1.27260129,  1.38862719, ..., -0.57403878,\n",
       "        -0.27827198, -0.32989898],\n",
       "       ...,\n",
       "       [-0.00785078, -0.09441888, -0.64785227, ..., -0.9502148 ,\n",
       "         1.22379953, -0.77599138],\n",
       "       [ 0.54562077, -0.36040658, -0.3131267 , ..., -0.56063247,\n",
       "        -0.47936161, -0.89267136],\n",
       "       [ 0.54562077, -0.36040658, -0.3131267 , ..., -0.56063247,\n",
       "        -0.47936161, -0.89267136]])"
      ]
     },
     "execution_count": 29,
     "metadata": {},
     "output_type": "execute_result"
    }
   ],
   "source": [
    "scaled_features"
   ]
  },
  {
   "cell_type": "code",
   "execution_count": 31,
   "id": "1438e056-56f2-48f6-8f1e-299288e52789",
   "metadata": {},
   "outputs": [
    {
     "name": "stdout",
     "output_type": "stream",
     "text": [
      "[[-1.54645531 -0.28282482 -1.44226099 -0.77921726 -0.97346564 -1.06122966\n",
      "  -1.29936528 -0.96876543 -1.17867752 -1.08465126 -0.12893763 -0.84538568\n",
      "   0.18972737 -0.97105597  0.25358037 -0.86343522 -0.8425559  -1.23501128\n",
      "  -0.70619985  1.15399833 -1.1797856  -1.15919331 -0.82524825 -0.64101392\n",
      "  -0.44110435 -0.96868798 -1.02202734  0.27628773 -0.7674534  -0.48928752\n",
      "  -0.02769048 -0.4291885  -0.5447055  -0.86336995 -0.33008414 -0.03018655\n",
      "   2.59572085  0.30112352  0.82153374  0.56415953  0.35108004  0.56113258\n",
      "   2.61521816 -0.42888607  3.58847384  1.00769578  3.2138083   0.57754824\n",
      "   0.75246288  0.80160704  1.14138348  0.32718724  0.92273838  0.85719977\n",
      "   0.83166564  0.06605407  1.12241332]]\n"
     ]
    }
   ],
   "source": [
    "# Extract user song features\n",
    "user_song = df.iloc[100, 2:-1].values  \n",
    "user_song = np.array(user_song, dtype=float)  \n",
    "scaler = StandardScaler()\n",
    "scaler.fit(df.iloc[:, 2:-1].values)  \n",
    "user_scaled = scaler.transform(user_song.reshape(1, -1))\n",
    "print(user_scaled)"
   ]
  },
  {
   "cell_type": "code",
   "execution_count": 39,
   "id": "8445cf0d-2ecb-4d4e-a69b-ac2dcb46fc02",
   "metadata": {},
   "outputs": [
    {
     "data": {
      "text/plain": [
       "[0.41414561934338395,\n",
       " 0.3400783174135884,\n",
       " 0.22792330069948175,\n",
       " 0.4157623811397409,\n",
       " 0.3758242447317105,\n",
       " 0.38512747139013687,\n",
       " 0.32818542665097766,\n",
       " 0.5244645989012859,\n",
       " 0.3459109235939704,\n",
       " 0.4394801676760241,\n",
       " 0.34999944907874214,\n",
       " 0.4773893208127469,\n",
       " 0.31768316644565747,\n",
       " 0.3947839544216738,\n",
       " 0.38615307253248804,\n",
       " 0.3989041634661895,\n",
       " 0.3102479819191481,\n",
       " 0.5901038019318137,\n",
       " 0.3121374311556564,\n",
       " 0.52054811941787,\n",
       " 0.3470939858788328,\n",
       " 0.2955377586625672,\n",
       " 0.3356634587104452,\n",
       " 0.4759443849502547,\n",
       " 0.5572978504337073,\n",
       " 0.47285151637696343,\n",
       " 0.3394684442919631,\n",
       " 0.3107028006178169,\n",
       " 0.5840388735756501,\n",
       " 0.2594942314602067,\n",
       " 0.38654564069325725,\n",
       " 0.5926147360851003,\n",
       " 0.615165785050959,\n",
       " 0.49743981114947544,\n",
       " 0.31547267106447197,\n",
       " 0.3883361857953862,\n",
       " 0.3615821148587647,\n",
       " 0.550682962663565,\n",
       " 0.6418741483020827,\n",
       " 0.5994667989489365,\n",
       " 0.4064614411564846,\n",
       " 0.5447883243459366,\n",
       " 0.36430669152336626,\n",
       " 0.3815336862912462,\n",
       " 0.3208939986567051,\n",
       " 0.7628713114962914,\n",
       " 0.8139024695918898,\n",
       " 0.615473261347492,\n",
       " 0.36087253819081694,\n",
       " 0.4631724275431868,\n",
       " 0.46773106349338034,\n",
       " 0.5657400197608708,\n",
       " 0.31347584986429705,\n",
       " 0.5662993185449665,\n",
       " 0.5498526712200795,\n",
       " 0.7597010403557627,\n",
       " 0.6032062368215075,\n",
       " 0.6731570561244947,\n",
       " 0.6846618355104968,\n",
       " 0.5274391950987589,\n",
       " 0.6623842676338345,\n",
       " 0.5260914686567468,\n",
       " 0.39983021383294104,\n",
       " 0.6837702299471977,\n",
       " 0.5324687875338839,\n",
       " 0.6089193555413156,\n",
       " 0.5796936612354641,\n",
       " 0.38854320275080073,\n",
       " 0.48637230522564734,\n",
       " 0.4673757866613783,\n",
       " 0.44547387848730924,\n",
       " 0.5343904188097552,\n",
       " 0.3963462829235517,\n",
       " 0.395338733241384,\n",
       " 0.5356234059190192,\n",
       " 0.6171758030381512,\n",
       " 0.5053331386945876,\n",
       " 0.6534500425498477,\n",
       " 0.6266201364993773,\n",
       " 0.601425622518095,\n",
       " 0.714156667428627,\n",
       " 0.4143742766483538,\n",
       " 0.594517520883439,\n",
       " 0.6879438961516193,\n",
       " 0.5186669628205215,\n",
       " 0.6179989422987173,\n",
       " 0.6205305918779516,\n",
       " 0.567732204394954,\n",
       " 0.5260684542772283,\n",
       " 0.408417911778514,\n",
       " 0.6271601640461903,\n",
       " 0.6463853558742414,\n",
       " 0.6682616716364616,\n",
       " 0.5345416952708308,\n",
       " 0.6625039591075038,\n",
       " 0.7545418812918225,\n",
       " 0.5567863704088317,\n",
       " 0.4905624143049481,\n",
       " 0.4905624143049481]"
      ]
     },
     "execution_count": 39,
     "metadata": {},
     "output_type": "execute_result"
    }
   ],
   "source": [
    "from sklearn.metrics.pairwise import cosine_similarity\n",
    "sim_scores=[]\n",
    "for i in range(len(scaled_features)):\n",
    "    similarity = cosine_similarity(user_scaled, scaled_features[i].reshape(1, -1))[0][0]\n",
    "    scaled_similarity=(similarity+1)/2\n",
    "    sim_scores.append(scaled_similarity)\n",
    "sim_scores   "
   ]
  },
  {
   "cell_type": "code",
   "execution_count": 33,
   "id": "5601e997-b514-4e95-a33b-3406230aa0b5",
   "metadata": {},
   "outputs": [
    {
     "ename": "NameError",
     "evalue": "name 'sim_scores' is not defined",
     "output_type": "error",
     "traceback": [
      "\u001b[1;31m---------------------------------------------------------------------------\u001b[0m",
      "\u001b[1;31mNameError\u001b[0m                                 Traceback (most recent call last)",
      "Cell \u001b[1;32mIn[33], line 1\u001b[0m\n\u001b[1;32m----> 1\u001b[0m highest_cluster_centroid\u001b[38;5;241m=\u001b[39m\u001b[38;5;28mmax\u001b[39m(sim_scores)\n\u001b[0;32m      2\u001b[0m lowest_cluster_centroid\u001b[38;5;241m=\u001b[39m\u001b[38;5;28mmin\u001b[39m(sim_scores)\n",
      "\u001b[1;31mNameError\u001b[0m: name 'sim_scores' is not defined"
     ]
    }
   ],
   "source": [
    "highest_cluster_centroid=max(sim_scores)\n",
    "lowest_cluster_centroid=min(sim_scores)"
   ]
  },
  {
   "cell_type": "code",
   "execution_count": 41,
   "id": "f1cffde5-56a4-4cc2-aba1-a73fc8c5ff25",
   "metadata": {},
   "outputs": [],
   "source": [
    "centroids=[max(sim_scores),min(sim_scores)]"
   ]
  },
  {
   "cell_type": "code",
   "execution_count": 43,
   "id": "7a9769c4-4d46-4712-a1ee-a37fc87c122c",
   "metadata": {},
   "outputs": [
    {
     "name": "stdout",
     "output_type": "stream",
     "text": [
      "    Song Index  Similarity Score  Assigned Cluster\n",
      "0          301          0.414146                 1\n",
      "1          302          0.340078                 1\n",
      "2          303          0.227923                 1\n",
      "3          304          0.415762                 1\n",
      "4          305          0.375824                 1\n",
      "..         ...               ...               ...\n",
      "94         395          0.662504                 0\n",
      "95         396          0.754542                 0\n",
      "96         397          0.556786                 0\n",
      "97         398          0.490562                 1\n",
      "98         399          0.490562                 1\n",
      "\n",
      "[99 rows x 3 columns]\n"
     ]
    }
   ],
   "source": [
    "def calculate_distance(data, centroid):\n",
    "    return np.sqrt(np.sum((data - centroid) ** 2))\n",
    "def assign_clusters(data, centroids):\n",
    "    clusters = []\n",
    "    for datapoint in data:\n",
    "        distances = [calculate_distance(datapoint, centroid) for centroid in centroids]\n",
    "        assigned_cluster = np.argmin(distances)\n",
    "        clusters.append(assigned_cluster)\n",
    "    return np.array(clusters)\n",
    "def update_centroids(data, clusters, k):\n",
    "    new_centroids = []\n",
    "    for i in range(k):\n",
    "        cluster_points = [data[j] for j in range(len(data)) if clusters[j] == i]\n",
    "        if cluster_points:  # Avoid empty cluster issue\n",
    "            new_centroids.append(np.mean(cluster_points))\n",
    "        else:\n",
    "            new_centroids.append(np.random.choice(data))  # Random re-init if empty\n",
    "    return new_centroids\n",
    "centroids = [max(sim_scores), min(sim_scores)]\n",
    "k = len(centroids)\n",
    "max_iterations = 100\n",
    "for _ in range(max_iterations):\n",
    "    clusters = assign_clusters(sim_scores, centroids)\n",
    "    new_centroids = update_centroids(sim_scores, clusters, k)\n",
    "    if np.allclose(centroids, new_centroids):\n",
    "        break  \n",
    "    centroids = new_centroids\n",
    "results_df = pd.DataFrame({\n",
    "    \"Song Index\": song_index,\n",
    "    \"Similarity Score\": sim_scores,\n",
    "    \"Assigned Cluster\": clusters\n",
    "})\n",
    "print(results_df)"
   ]
  },
  {
   "cell_type": "code",
   "execution_count": 45,
   "id": "c8d4994a-c41b-479d-8186-29f4f4d3e910",
   "metadata": {},
   "outputs": [
    {
     "ename": "NameError",
     "evalue": "name 'assign_cluster' is not defined",
     "output_type": "error",
     "traceback": [
      "\u001b[1;31m---------------------------------------------------------------------------\u001b[0m",
      "\u001b[1;31mNameError\u001b[0m                                 Traceback (most recent call last)",
      "Cell \u001b[1;32mIn[45], line 1\u001b[0m\n\u001b[1;32m----> 1\u001b[0m cluster\u001b[38;5;241m=\u001b[39massign_cluster(sim_scores,centroids)\n",
      "\u001b[1;31mNameError\u001b[0m: name 'assign_cluster' is not defined"
     ]
    }
   ],
   "source": [
    "cluster=assign_cluster(sim_scores,centroids)"
   ]
  },
  {
   "cell_type": "code",
   "execution_count": 47,
   "id": "e9172dfb-0d55-4a6a-b676-0e16e6e7489b",
   "metadata": {},
   "outputs": [
    {
     "name": "stdout",
     "output_type": "stream",
     "text": [
      "   Song Index  Similarity Score\n",
      "0         308          0.524465\n",
      "1         318          0.590104\n",
      "2         320          0.520548\n",
      "3         325          0.557298\n",
      "4         329          0.584039\n",
      "5         332          0.592615\n",
      "6         333          0.615166\n",
      "7         334          0.497440\n",
      "8         338          0.550683\n",
      "9         339          0.641874\n",
      "10        340          0.599467\n",
      "11        342          0.544788\n",
      "12        346          0.762871\n",
      "13        347          0.813902\n",
      "14        348          0.615473\n",
      "15        352          0.565740\n",
      "16        354          0.566299\n",
      "17        355          0.549853\n",
      "18        356          0.759701\n",
      "19        357          0.603206\n",
      "20        358          0.673157\n",
      "21        359          0.684662\n",
      "22        360          0.527439\n",
      "23        361          0.662384\n",
      "24        362          0.526091\n",
      "25        364          0.683770\n",
      "26        365          0.532469\n",
      "27        366          0.608919\n",
      "28        367          0.579694\n",
      "29        372          0.534390\n",
      "30        375          0.535623\n",
      "31        376          0.617176\n",
      "32        377          0.505333\n",
      "33        378          0.653450\n",
      "34        379          0.626620\n",
      "35        380          0.601426\n",
      "36        381          0.714157\n",
      "37        383          0.594518\n",
      "38        384          0.687944\n",
      "39        385          0.518667\n",
      "40        386          0.617999\n",
      "41        387          0.620531\n",
      "42        388          0.567732\n",
      "43        389          0.526068\n",
      "44        391          0.627160\n",
      "45        392          0.646385\n",
      "46        393          0.668262\n",
      "47        394          0.534542\n",
      "48        395          0.662504\n",
      "49        396          0.754542\n",
      "50        397          0.556786\n"
     ]
    },
    {
     "name": "stderr",
     "output_type": "stream",
     "text": [
      "C:\\Users\\dheeru\\AppData\\Local\\Temp\\ipykernel_9076\\3417255966.py:9: FutureWarning: The behavior of DataFrame concatenation with empty or all-NA entries is deprecated. In a future version, this will no longer exclude empty or all-NA columns when determining the result dtypes. To retain the old behavior, exclude the relevant entries before the concat operation.\n",
      "  final_val = pd.concat([final_val, new_row], ignore_index=True)\n"
     ]
    }
   ],
   "source": [
    "final_val = pd.DataFrame(columns=[\"Song Index\", \"Similarity Score\"])\n",
    "\n",
    "for i in range(len(results_df)):\n",
    "    if results_df[\"Assigned Cluster\"][i] == 0:\n",
    "        new_row = pd.DataFrame({\n",
    "            \"Song Index\": [results_df[\"Song Index\"][i]],\n",
    "            \"Similarity Score\": [results_df[\"Similarity Score\"][i]]\n",
    "        })\n",
    "        final_val = pd.concat([final_val, new_row], ignore_index=True)\n",
    "\n",
    "print(final_val)\n"
   ]
  },
  {
   "cell_type": "code",
   "execution_count": 49,
   "id": "e2555928-079a-4f52-9867-66f5905bd27a",
   "metadata": {},
   "outputs": [],
   "source": [
    "top_5_songs = final_val.sort_values(by=\"Similarity Score\", ascending=False).head(5)\n",
    "recommended_indices = top_5_songs[\"Song Index\"].tolist()"
   ]
  },
  {
   "cell_type": "code",
   "execution_count": 51,
   "id": "abd32410-7554-40d5-9c64-73f008008cdc",
   "metadata": {},
   "outputs": [
    {
     "name": "stdout",
     "output_type": "stream",
     "text": [
      "Recommended Songs are:\n",
      "disco.00047.wav\n",
      "disco.00046.wav\n",
      "disco.00056.wav\n",
      "disco.00096.wav\n",
      "disco.00081.wav\n"
     ]
    }
   ],
   "source": [
    "print(\"Recommended Songs are:\")\n",
    "for i in range(len(recommended_indices)):\n",
    "    val=recommended_indices[i]\n",
    "    print(df[\"filename\"][val])"
   ]
  },
  {
   "cell_type": "code",
   "execution_count": null,
   "id": "5252a923-fc0d-431c-9379-22d31597cad8",
   "metadata": {},
   "outputs": [],
   "source": []
  }
 ],
 "metadata": {
  "kernelspec": {
   "display_name": "Python 3 (ipykernel)",
   "language": "python",
   "name": "python3"
  },
  "language_info": {
   "codemirror_mode": {
    "name": "ipython",
    "version": 3
   },
   "file_extension": ".py",
   "mimetype": "text/x-python",
   "name": "python",
   "nbconvert_exporter": "python",
   "pygments_lexer": "ipython3",
   "version": "3.12.4"
  }
 },
 "nbformat": 4,
 "nbformat_minor": 5
}
